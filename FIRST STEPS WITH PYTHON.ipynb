{
 "cells": [
  {
   "cell_type": "code",
   "execution_count": 2,
   "metadata": {},
   "outputs": [
    {
     "name": "stdout",
     "output_type": "stream",
     "text": [
      "2002 2009 2016 2023 2037 2044 2051 2058 2072 2079 2086 2093 2107 2114 2121 2128 2142 2149 2156 2163 2177 2184 2191 2198 2212 2219 2226 2233 2247 2254 2261 2268 2282 2289 2296 2303 2317 2324 2331 2338 2352 2359 2366 2373 2387 2394 2401 2408 2422 2429 2436 2443 2457 2464 2471 2478 2492 2499 2506 2513 2527 2534 2541 2548 2562 2569 2576 2583 2597 2604 2611 2618 2632 2639 2646 2653 2667 2674 2681 2688 2702 2709 2716 2723 2737 2744 2751 2758 2772 2779 2786 2793 2807 2814 2821 2828 2842 2849 2856 2863 2877 2884 2891 2898 2912 2919 2926 2933 2947 2954 2961 2968 2982 2989 2996 3003 3017 3024 3031 3038 3052 3059 3066 3073 3087 3094 3101 3108 3122 3129 3136 3143 3157 3164 3171 3178 3192 3199 "
     ]
    }
   ],
   "source": [
    "\n",
    "for x in range(2000,3200,):\n",
    "    if x%5!=0 and x%7==0:\n",
    "        print(x, end=\" \")\n",
    "    \n",
    "   \n"
   ]
  },
  {
   "cell_type": "code",
   "execution_count": 8,
   "metadata": {},
   "outputs": [
    {
     "name": "stdout",
     "output_type": "stream",
     "text": [
      "<class 'str'>\n"
     ]
    }
   ],
   "source": [
    "a=\"hello\"\n",
    "print(type(a))"
   ]
  },
  {
   "cell_type": "code",
   "execution_count": 1,
   "metadata": {},
   "outputs": [
    {
     "name": "stdout",
     "output_type": "stream",
     "text": [
      "720\n"
     ]
    }
   ],
   "source": [
    "n=6\n",
    "fact=1\n",
    "for i in range(1,n+1):\n",
    "        fact=fact*i\n",
    "print(fact)"
   ]
  },
  {
   "cell_type": "code",
   "execution_count": 2,
   "metadata": {},
   "outputs": [
    {
     "name": "stdout",
     "output_type": "stream",
     "text": [
      "720\n"
     ]
    }
   ],
   "source": [
    "import math\n",
    "print(math.factorial(6))"
   ]
  },
  {
   "cell_type": "code",
   "execution_count": null,
   "metadata": {},
   "outputs": [],
   "source": []
  },
  {
   "cell_type": "code",
   "execution_count": 5,
   "metadata": {},
   "outputs": [
    {
     "name": "stdout",
     "output_type": "stream",
     "text": [
      "6\n",
      "{0: 0, 1: 1, 2: 4, 3: 9, 4: 16, 5: 25}\n"
     ]
    }
   ],
   "source": [
    "x=int(input())\n",
    "d={}\n",
    "n=0\n",
    "for n in range(0,x):\n",
    "    y=n*n\n",
    "    d[n]=y\n",
    "print(d)\n",
    "\n"
   ]
  },
  {
   "cell_type": "code",
   "execution_count": 21,
   "metadata": {},
   "outputs": [
    {
     "name": "stdout",
     "output_type": "stream",
     "text": [
      "100,150,180\n",
      "[18, 22, 24]\n"
     ]
    }
   ],
   "source": [
    "import random\n",
    "import math\n",
    "s01=input()\n",
    "s02 = s01.split(\",\")\n",
    "len(s02)\n",
    "l01=[]\n",
    "for i in s02:\n",
    "    y=int(i)\n",
    "    z=round(math.sqrt(2*50*y/30))\n",
    "    l01.append(z)\n",
    "print(l01)\n",
    "   \n",
    "    "
   ]
  },
  {
   "cell_type": "code",
   "execution_count": 18,
   "metadata": {},
   "outputs": [
    {
     "name": "stdout",
     "output_type": "stream",
     "text": [
      "gdqpfgo\n",
      "5\n",
      "gdqpfo\n"
     ]
    }
   ],
   "source": [
    "s01=input()\n",
    "len(s01)\n",
    "s01=list(s01)\n",
    "n=int(input())\n",
    "if n<len(s01):\n",
    "    del s01[n]\n",
    "s01=\"\".join(s01)\n",
    "print(s01)\n"
   ]
  },
  {
   "cell_type": "code",
   "execution_count": 1,
   "metadata": {
    "scrolled": true
   },
   "outputs": [
    {
     "name": "stdout",
     "output_type": "stream",
     "text": [
      "[105, 34, 104, 111, 112, 101, 34, 121, 111, 117, 34, 100, 105, 100, 110, 116, 34, 116, 114, 123, 110, 115, 108, 123, 116, 101, 34, 105, 116, 34, 124, 121, 34, 104, 123, 110, 100, 48, 34, 116, 104, 123, 116, 115, 34, 119, 104, 123, 116, 34, 99, 111, 109, 112, 117, 116, 101, 114, 115, 34, 123, 114, 101, 34, 102, 111, 114, 48, 34, 100, 111, 105, 110, 103, 34, 105, 116, 34, 105, 110, 34, 124, 121, 34, 104, 123, 110, 100, 34, 105, 115, 34, 105, 110, 101, 102, 102, 105, 99, 105, 101, 110, 116, 34, 123, 110, 100, 34, 116, 104, 123, 116, 41, 115, 34, 119, 104, 121, 34, 116, 104, 105, 115, 34, 116, 101, 120, 116, 34, 105, 115, 34, 115, 111, 34, 108, 111, 110, 103, 48, 34, 117, 115, 105, 110, 103, 34, 115, 116, 114, 105, 110, 103, 48, 109, 123, 107, 101, 116, 114, 123, 110, 115, 42, 43, 34, 105, 115, 34, 114, 101, 99, 111, 109, 109, 101, 110, 100, 101, 100, 48, 34, 110, 111, 119, 34, 123, 112, 112, 108, 121, 34, 111, 110, 34, 116, 104, 101, 34, 117, 114, 108, 48, 34]\n",
      "i hope you didnt translate it by hand. thats what computers are for. doing it in by hand is inefficient and that's why this text is so long. using string.maketrans*+ is recommended. now apply on the url. \n"
     ]
    },
    {
     "data": {
      "text/plain": [
       "{105: 103,\n",
       " 32: 32,\n",
       " 104: 102,\n",
       " 111: 109,\n",
       " 112: 110,\n",
       " 101: 99,\n",
       " 121: 119,\n",
       " 117: 115,\n",
       " 100: 98,\n",
       " 110: 108,\n",
       " 116: 114,\n",
       " 114: 112,\n",
       " 97: 121,\n",
       " 115: 113,\n",
       " 108: 106,\n",
       " 98: 122,\n",
       " 46: 46,\n",
       " 119: 117,\n",
       " 99: 97,\n",
       " 109: 107,\n",
       " 102: 100,\n",
       " 103: 101,\n",
       " 39: 39,\n",
       " 120: 118,\n",
       " 107: 105,\n",
       " 42: 40,\n",
       " 43: 41}"
      ]
     },
     "execution_count": 1,
     "metadata": {},
     "output_type": "execute_result"
    }
   ],
   "source": [
    "s=\"g fmnc wms bgblr rpylqjyrc gr zw fylb. rfyrq ufyr amknsrcpq ypc dmp. bmgle gr gl zw fylb gq glcddgagclr ylb rfyr'q ufw rfgq rcvr gq qm jmle. sqgle qrpgle.kyicrpylq() gq pcamkkclbcb. lmu ynnjw ml rfc spj. \"\n",
    "r=[]\n",
    "l=[]\n",
    "f=list(s)\n",
    "for i in f:\n",
    "    y=ord(i)\n",
    "    y=y+2\n",
    "    r.append(y)\n",
    "print(r)\n",
    "\n",
    "for m in range(0,len(r)): \n",
    "    if r[m]==34:\n",
    "        r[m]=32\n",
    "    m=m+1\n",
    "for m in range(0,len(r)): \n",
    "    if r[m]==48:\n",
    "        r[m]=46\n",
    "    m=m+1\n",
    "for m in range(0,len(r)): \n",
    "    if r[m]==123:\n",
    "        r[m]=97\n",
    "    m=m+1\n",
    "for m in range(0,len(r)): \n",
    "    if r[m]==124:\n",
    "        r[m]=98\n",
    "    m=m+1\n",
    "for m in range(0,len(r)): \n",
    "    if r[m]==41:\n",
    "        r[m]=39\n",
    "    m=m+1\n",
    "\n",
    "for x in r:\n",
    "    c=chr(x)\n",
    "    l.append(c)\n",
    "\n",
    "l=\"\".join(l)\n",
    "print(l)\n",
    "str.maketrans(l,s)\n",
    "\n",
    "    \n"
   ]
  },
  {
   "cell_type": "code",
   "execution_count": 49,
   "metadata": {},
   "outputs": [
    {
     "name": "stdout",
     "output_type": "stream",
     "text": [
      "[[1, 2], [12, 15], [5, 8]]\n"
     ]
    }
   ],
   "source": [
    "import numpy as np\n",
    "x=np.array([[1,2],[12,15],[5,8]])\n",
    "\n",
    "liste= x.tolist()\n",
    "print(liste)\n"
   ]
  },
  {
   "cell_type": "code",
   "execution_count": 7,
   "metadata": {},
   "outputs": [
    {
     "data": {
      "text/plain": [
       "array([[  7.3 ,   6.6 , -18.35,  -2.15],\n",
       "       [  6.6 ,   6.7 ,  -1.2 ,  -1.3 ],\n",
       "       [-18.35,  -1.2 , 464.2 ,  46.3 ],\n",
       "       [ -2.15,  -1.3 ,  46.3 ,   9.2 ]])"
      ]
     },
     "execution_count": 7,
     "metadata": {},
     "output_type": "execute_result"
    }
   ],
   "source": [
    "import numpy as np\n",
    "tab=np.array([[1,3,6,8,5],[1,5,6,8,6]])\n",
    "tab2=np.array([[3,53,9,2,7],[5,9,7,4,1]])\n",
    "np.cov(tab,tab2)"
   ]
  },
  {
   "cell_type": "code",
   "execution_count": 24,
   "metadata": {},
   "outputs": [
    {
     "name": "stdout",
     "output_type": "stream",
     "text": [
      "i hope you didnt translate it by hand. thats what computers are for. doing it in by hand is inefficient and that's why this text is so long. using string.maketrans() is recommended. now apply on the url. \n"
     ]
    }
   ],
   "source": [
    "s=\"g fmnc wms bgblr rpylqjyrc gr zw fylb. rfyrq ufyr amknsrcpq ypc dmp. bmgle gr gl zw fylb gq glcddgagclr ylb rfyr'q ufw rfgq rcvr gq qm jmle. sqgle qrpgle.kyicrpylq() gq pcamkkclbcb. lmu ynnjw ml rfc spj. \"\n",
    "l=\"abcdefghijklmnopqrstuvwxyz .,''\"\n",
    "l01=\"cdefghijklmnopqrstuvwxyzab .,''\"\n",
    "print (s.translate(str.maketrans(l,l01)))\n",
    "\n"
   ]
  },
  {
   "cell_type": "code",
   "execution_count": null,
   "metadata": {},
   "outputs": [],
   "source": []
  }
 ],
 "metadata": {
  "kernelspec": {
   "display_name": "Python 3",
   "language": "python",
   "name": "python3"
  },
  "language_info": {
   "codemirror_mode": {
    "name": "ipython",
    "version": 3
   },
   "file_extension": ".py",
   "mimetype": "text/x-python",
   "name": "python",
   "nbconvert_exporter": "python",
   "pygments_lexer": "ipython3",
   "version": "3.7.6"
  }
 },
 "nbformat": 4,
 "nbformat_minor": 4
}
